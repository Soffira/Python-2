{
 "cells": [
  {
   "cell_type": "markdown",
   "metadata": {},
   "source": [
    "## Python Advanced. Homework 2"
   ]
  },
  {
   "cell_type": "markdown",
   "metadata": {},
   "source": [
    "### 1. Задание на закрепление знаний по модулю CSV. Написать скрипт, осуществляющий выборку определенных данных из файлов info_1.txt, info_2.txt, info_3.txt и формирующий новый «отчетный» файл в формате CSV. Для этого:"
   ]
  },
  {
   "cell_type": "markdown",
   "metadata": {},
   "source": [
    "#### Создать функцию get_data(), в которой в цикле осуществляется перебор файлов с данными, их открытие и считывание данных. В этой функции из считанных данных необходимо с помощью регулярных выражений извлечь значения параметров «Изготовитель системы», «Название ОС», «Код продукта», «Тип системы». Значения каждого параметра поместить в соответствующий список. Должно получиться четыре списка — например, os_prod_list, os_name_list, os_code_list, os_type_list. В этой же функции создать главный список для хранения данных отчета — например, main_data — и поместить в него названия столбцов отчета в виде списка: «Изготовитель системы», «Название ОС», «Код продукта», «Тип системы». Значения для этих столбцов также оформить в виде списка и поместить в файл main_data (также для каждого файла);"
   ]
  },
  {
   "cell_type": "code",
   "execution_count": 162,
   "metadata": {},
   "outputs": [],
   "source": [
    "info1 = 'E:\\Git\\Обучение Искусственный интеллект\\Python advanced\\lesson 2\\Студентам для решения домашнего задания\\info_1.txt'\n",
    "info2 = 'E:\\Git\\Обучение Искусственный интеллект\\Python advanced\\lesson 2\\Студентам для решения домашнего задания\\info_2.txt'\n",
    "info3 = 'E:\\Git\\Обучение Искусственный интеллект\\Python advanced\\lesson 2\\Студентам для решения домашнего задания\\info_3.txt'"
   ]
  },
  {
   "cell_type": "code",
   "execution_count": 163,
   "metadata": {},
   "outputs": [],
   "source": [
    "import re\n",
    "os_prod_list = []\n",
    "os_name_list = []\n",
    "os_code_list = []\n",
    "os_type_list = []\n",
    "main_data = {}\n",
    "def get_data(*file_names):\n",
    "    for file in file_names:\n",
    "        with open(file) as f:\n",
    "            reader = f.read()\n",
    "#            print(reader)\n",
    "            elements = re.findall(r'(.+):\\s+(.+)[\\s+]', reader)\n",
    "            dict_all_elements = {}\n",
    "            \n",
    "            for element in elements:\n",
    "                if 'Код продукта' in element[1]:\n",
    "                    dict_all_elements[element[0]] = ' '\n",
    "                    item1 = re.findall(r'(\\w.+):\\s+([\\w+].+)', element[1])\n",
    "                    dict_all_elements['Код продукта'] = item1[0][1]\n",
    "                else:\n",
    "                    clear_result = re.findall(r'\\S+.+', element[0])\n",
    "                    dict_all_elements[clear_result[0]] = element[1]\n",
    "\n",
    "            for i in dict_all_elements.items():\n",
    "                if 'Изготовитель системы' in i:\n",
    "                    if 'Изготовитель системы' not in main_data.keys():\n",
    "                        main_data['Изготовитель системы'] = None\n",
    "                    os_prod_list.append(i[1])\n",
    "                elif 'Название ОС' in i:\n",
    "                    if 'Название ОС' not in main_data.keys():\n",
    "                        main_data['Название ОС'] = None\n",
    "                    os_name_list.append(i[1])\n",
    "                elif 'Код продукта' in i:\n",
    "                    if 'Код продукта' not in main_data.keys():\n",
    "                        main_data['Код продукта'] = None\n",
    "                    os_code_list.append(i[1])            \n",
    "                elif 'Тип системы' in i:\n",
    "                    if 'Тип системы' not in main_data.keys():\n",
    "                        main_data['Тип системы'] = None\n",
    "                    os_type_list.append(i[1])\n",
    "    all_lists = [os_prod_list, os_name_list, os_code_list, os_type_list]\n",
    "    n = 0\n",
    "    for i in main_data:\n",
    "        main_data[i] = all_lists[n]\n",
    "        n+=1\n",
    "    print(os_prod_list)\n",
    "    print(os_name_list)\n",
    "    print(os_code_list)\n",
    "    print(os_type_list)\n",
    "    for i in main_data:\n",
    "        print('{} : {}'.format(i, main_data[i]))\n",
    "    return (os_prod_list, os_name_list, os_code_list, os_type_list, all_lists, main_data)"
   ]
  },
  {
   "cell_type": "code",
   "execution_count": 164,
   "metadata": {},
   "outputs": [],
   "source": [
    "#get_data(info1, info2, info3)"
   ]
  },
  {
   "cell_type": "markdown",
   "metadata": {},
   "source": [
    "#### Создать функцию write_to_csv(), в которую передавать ссылку на CSV-файл. В этой функции реализовать получение данных через вызов функции get_data(), а также сохранение подготовленных данных в соответствующий CSV-файл;"
   ]
  },
  {
   "cell_type": "code",
   "execution_count": 165,
   "metadata": {},
   "outputs": [],
   "source": [
    "import csv\n",
    "def write_to_csv(*files):\n",
    "    get_data(info1, info2, info3)\n",
    "\n",
    "    header = []\n",
    "    for i in main_data:\n",
    "        header.append(i)\n",
    "    headers = tuple(header)\n",
    "\n",
    "    with open('E:\\Git\\Обучение Искусственный интеллект\\Python advanced\\lesson 2\\data_for_hw_1.csv', 'w') as file:\n",
    "        writer = csv.DictWriter(file, fieldnames=headers)\n",
    "        writer.writeheader()\n",
    "        writer.writerow(main_data)"
   ]
  },
  {
   "cell_type": "markdown",
   "metadata": {},
   "source": [
    "#### Проверить работу программы через вызов функции write_to_csv()."
   ]
  },
  {
   "cell_type": "code",
   "execution_count": 166,
   "metadata": {},
   "outputs": [
    {
     "name": "stdout",
     "output_type": "stream",
     "text": [
      "['LENOVO', 'ACER', 'DELL']\n",
      "['Microsoft Windows 7 Профессиональная ', 'Microsoft Windows 10 Professional', 'Microsoft Windows 8.1 Professional']\n",
      "['00971-OEM-1982661-00231', '00971-OEM-1982661-00231', '00971-OEM-1982661-00231']\n",
      "['x64-based PC', 'x64-based PC', 'x86-based PC']\n",
      "Название ОС : ['LENOVO', 'ACER', 'DELL']\n",
      "Код продукта : ['Microsoft Windows 7 Профессиональная ', 'Microsoft Windows 10 Professional', 'Microsoft Windows 8.1 Professional']\n",
      "Изготовитель системы : ['00971-OEM-1982661-00231', '00971-OEM-1982661-00231', '00971-OEM-1982661-00231']\n",
      "Тип системы : ['x64-based PC', 'x64-based PC', 'x86-based PC']\n"
     ]
    }
   ],
   "source": [
    "write_to_csv(info1, info2, info3)"
   ]
  },
  {
   "cell_type": "markdown",
   "metadata": {},
   "source": [
    "### 2. Задание на закрепление знаний по модулю json. Есть файл orders в формате JSON с информацией о заказах. Написать скрипт, автоматизирующий его заполнение данными. Для этого:"
   ]
  },
  {
   "cell_type": "markdown",
   "metadata": {},
   "source": [
    "#### Создать функцию write_order_to_json(), в которую передается 5 параметров — товар (item), количество (quantity), цена (price), покупатель (buyer), дата (date). Функция должна предусматривать запись данных в виде словаря в файл orders.json. При записи данных указать величину отступа в 4 пробельных символа;"
   ]
  },
  {
   "cell_type": "code",
   "execution_count": 167,
   "metadata": {},
   "outputs": [],
   "source": [
    "import json\n",
    "from pprint import pprint"
   ]
  },
  {
   "cell_type": "code",
   "execution_count": 168,
   "metadata": {},
   "outputs": [],
   "source": [
    "def write_order_to_json(*items):\n",
    "    with open('E:\\Git\\Обучение Искусственный интеллект\\Python advanced\\lesson 2\\Студентам для решения домашнего задания\\orders.json') as file:\n",
    "        inf = json.load(file)\n",
    "        for i in inf:\n",
    "            inf[i] = items\n",
    "\n",
    "    with open('E:\\Git\\Обучение Искусственный интеллект\\Python advanced\\lesson 2\\Студентам для решения домашнего задания\\orders.json', 'w') as file:\n",
    "        json.dump(inf, file, indent=4)"
   ]
  },
  {
   "cell_type": "markdown",
   "metadata": {},
   "source": [
    "#### Проверить работу программы через вызов функции write_order_to_json() с передачей в нее значений каждого параметра."
   ]
  },
  {
   "cell_type": "code",
   "execution_count": 169,
   "metadata": {},
   "outputs": [],
   "source": [
    "write_order_to_json('item', 'quantity', 'price', 'buyer', 'date')"
   ]
  },
  {
   "cell_type": "code",
   "execution_count": 170,
   "metadata": {},
   "outputs": [],
   "source": [
    "#Прочитаем данные"
   ]
  },
  {
   "cell_type": "code",
   "execution_count": 171,
   "metadata": {},
   "outputs": [
    {
     "name": "stdout",
     "output_type": "stream",
     "text": [
      "{'orders': ['item', 'quantity', 'price', 'buyer', 'date']}\n"
     ]
    }
   ],
   "source": [
    "with open('E:\\Git\\Обучение Искусственный интеллект\\Python advanced\\lesson 2\\Студентам для решения домашнего задания\\orders.json') as file:\n",
    "        pprint(json.load(file))"
   ]
  },
  {
   "cell_type": "markdown",
   "metadata": {},
   "source": [
    "### 3. Задание на закрепление знаний по модулю yaml. Написать скрипт, автоматизирующий сохранение данных в файле YAML-формата. Для этого:"
   ]
  },
  {
   "cell_type": "markdown",
   "metadata": {},
   "source": [
    "#### Подготовить данные для записи в виде словаря, в котором первому ключу соответствует список, второму — целое число, третьему — вложенный словарь, где значение каждого ключа — это целое число с юникод-символом, отсутствующим в кодировке ASCII (например, €);"
   ]
  },
  {
   "cell_type": "code",
   "execution_count": 172,
   "metadata": {},
   "outputs": [],
   "source": [
    "Data = {\n",
    "    'key1': ['value1', 'value2', 'value2'],\n",
    "    'key2': 25,\n",
    "    'key3': {'1num': '100€', '2num': '150€', '3num': '102€'}\n",
    "}"
   ]
  },
  {
   "cell_type": "markdown",
   "metadata": {},
   "source": [
    "#### Реализовать сохранение данных в файл формата YAML — например, в файл file.yaml. При этом обеспечить стилизацию файла с помощью параметра default_flow_style, а также установить возможность работы с юникодом: allow_unicode = True;"
   ]
  },
  {
   "cell_type": "markdown",
   "metadata": {},
   "source": [
    "#### Реализовать считывание данных из созданного файла и проверить, совпадают ли они с исходными."
   ]
  },
  {
   "cell_type": "code",
   "execution_count": 177,
   "metadata": {},
   "outputs": [
    {
     "name": "stdout",
     "output_type": "stream",
     "text": [
      "{'key1': ['value1', 'value2', 'value2'],\n",
      " 'key2': 25,\n",
      " 'key3': {'1num': '100€', '2num': '150€', '3num': '102€'}}\n",
      "Данные совпадаю\n"
     ]
    }
   ],
   "source": [
    "import yaml\n",
    "with open('E:\\Git\\Обучение Искусственный интеллект\\Python advanced\\lesson 2\\doc-1.yaml', 'w') as file:\n",
    "    yaml.dump(Data, file, Dumper=yaml.Dumper, default_flow_style=True, allow_unicode = True)\n",
    "\n",
    "with open('E:\\Git\\Обучение Искусственный интеллект\\Python advanced\\lesson 2\\doc-1.yaml') as file:\n",
    "    data = yaml.load(file, Loader=yaml.Loader)\n",
    "    pprint(data)\n",
    "    if data == Data:\n",
    "        print('Данные совпадаю')"
   ]
  }
 ],
 "metadata": {
  "kernelspec": {
   "display_name": "Python 3",
   "language": "python",
   "name": "python3"
  },
  "language_info": {
   "codemirror_mode": {
    "name": "ipython",
    "version": 3
   },
   "file_extension": ".py",
   "mimetype": "text/x-python",
   "name": "python",
   "nbconvert_exporter": "python",
   "pygments_lexer": "ipython3",
   "version": "3.6.5"
  }
 },
 "nbformat": 4,
 "nbformat_minor": 2
}
